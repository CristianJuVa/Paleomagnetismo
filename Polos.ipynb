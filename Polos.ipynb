{
 "cells": [
  {
   "cell_type": "markdown",
   "metadata": {},
   "source": [
    "## PROCEDIMIENTO PARA LA DETERMINACIÓN DE LOS POLOS"
   ]
  },
  {
   "cell_type": "markdown",
   "metadata": {},
   "source": [
    "**1. Importamos las librerías necesarias**"
   ]
  },
  {
   "cell_type": "code",
   "execution_count": 18,
   "metadata": {},
   "outputs": [],
   "source": [
    "import numpy as np\n",
    "import math "
   ]
  },
  {
   "cell_type": "markdown",
   "metadata": {},
   "source": [
    "* **2. Le solicitaremos al usuario los valores de:**\n",
    "** Inclinación \n",
    "** Latitud\n",
    "** Deniclinación\n",
    "** Longitud\n",
    "** α95 (en el caso de que se conozca)"
   ]
  },
  {
   "cell_type": "code",
   "execution_count": 30,
   "metadata": {},
   "outputs": [
    {
     "name": "stdout",
     "output_type": "stream",
     "text": [
      "Ingrese I : 45\n",
      "Ingrese latitud (λs) : 30\n",
      "Ingrese Dm : 25\n",
      "Ingrese φs : 250\n",
      "Ingrese  α95: 5\n"
     ]
    }
   ],
   "source": [
    "I = float(input(\"Ingrese I : \"))\n",
    "fact = float(np.pi/180.)\n",
    "\n",
    "λs = float(input(\"Ingrese latitud (λs) : \"))\n",
    "D = float(input(\"Ingrese D : \"))\n",
    "φs = float(input(\"Ingrese φs : \"))\n",
    "α95 = float(input(\"Ingrese  α95: \"))"
   ]
  },
  {
   "cell_type": "markdown",
   "metadata": {},
   "source": [
    "* **A partir de los datos ingresados por el usuario prodederemos a aplicar las formulas correspondientes para la determinación de los parámetros del polo:**\n",
    "** Colatitud magnética\n",
    "** Latitud del polo\n",
    "** β\n",
    "** Longitud del polo (φp)\n",
    "** dm\n",
    "** dp"
   ]
  },
  {
   "cell_type": "code",
   "execution_count": 56,
   "metadata": {},
   "outputs": [],
   "source": [
    "p = round(np.degrees(np.arctan(2/np.tan(I*fact))), 3)\n",
    "λp = round(np.degrees(np.arcsin(np.sin(λs*fact)*np.cos(p*fact)+np.cos(λs*fact)*np.sin(p*fact)*np.cos(Dm*fact))), 3)\n",
    "β = round(np.degrees(np.arcsin(np.sin(p*fact)*np.sin(Dm*fact)/np.cos(λp*fact))), 3)\n",
    "\n",
    "\n",
    "if np.cos(p*fact)>= (np.sin(λs*fact)*np.sin(λs*fact)):\n",
    "    φp = φs+β\n",
    "else:\n",
    "    np.cos(p*fact)<= (np.sin(λs*fact)*np.sin(λs*fact))\n",
    "    φp = φs+180-β\n",
    "\n",
    "dp = round(α95*((1+3*math.cos(p*fact)**2)/2), 3)\n",
    "\n",
    "dm = round(α95*(np.sin(p*fact)/np.cos(I*fact)), 3)"
   ]
  },
  {
   "cell_type": "code",
   "execution_count": 57,
   "metadata": {},
   "outputs": [
    {
     "name": "stdout",
     "output_type": "stream",
     "text": [
      "Colatitud magnética: p = 63.435 °\n",
      "Latitud del polo: λp = 67.764 °\n",
      "β = 87.297 °\n",
      "φp = 337.297 °\n",
      "dp 4.0\n",
      "dm 6.325\n"
     ]
    }
   ],
   "source": [
    "print(\"Colatitud magnética: p =\", p,\"°\")\n",
    "print(\"Latitud del polo: λp =\", λp,\"°\")\n",
    "print(\"β =\", β,\"°\")\n",
    "print(\"φp =\", φp,\"°\")\n",
    "print(\"dp\", dp)\n",
    "print(\"dm\", dm)"
   ]
  },
  {
   "cell_type": "markdown",
   "metadata": {},
   "source": [
    "# Ejemplo 7.1\n",
    "\n",
    "De acuerdo al ejercicio **7.1**, los se recolectaron muestras en un yacimiento correspondiente al Oligoceno, su ubicación es: **λs = 35°N, φs = 241,2°E**. Los datos ChRM medios del sitio son **N = 8, Im = -17,9°, Dm = 232,6°, k = 320,0**"
   ]
  },
  {
   "cell_type": "markdown",
   "metadata": {},
   "source": [
    "Usarémos el mismo código anterior para determinar los parámetros de nuestro interés:\n",
    "En este caso desconocemos α95, pero no es una limitante, ya que podemos determinar su valor con la formúla **(6.22)**. "
   ]
  },
  {
   "cell_type": "code",
   "execution_count": 62,
   "metadata": {},
   "outputs": [
    {
     "name": "stdout",
     "output_type": "stream",
     "text": [
      "Ingrese I : -17.9\n",
      "Ingrese latitud (λs) : 35\n",
      "Ingrese D : 232.6\n",
      "Ingrese φs : 241.2\n",
      "Ingrese  N: 8\n",
      "Ingrese  k: 320\n",
      "α95 = 2.766992952647332\n"
     ]
    }
   ],
   "source": [
    "I2 = float(input(\"Ingrese I : \"))\n",
    "λs2 = float(input(\"Ingrese latitud (λs) : \"))\n",
    "D2 = float(input(\"Ingrese D : \"))\n",
    "φs2 = float(input(\"Ingrese φs : \"))\n",
    "N = float(input(\"Ingrese  N: \"))\n",
    "k = float(input(\"Ingrese  k: \"))\n",
    "α952 = 140/np.sqrt(N*k)\n",
    "print(\"α95 =\",α952)"
   ]
  },
  {
   "cell_type": "markdown",
   "metadata": {},
   "source": [
    "* Nuevamente, se realizan las operaciones correspondientes"
   ]
  },
  {
   "cell_type": "code",
   "execution_count": 78,
   "metadata": {},
   "outputs": [],
   "source": [
    "p2 = round(np.degrees(np.arctan(2/np.tan(I2*fact))), 3)\n",
    "λp2 = round(np.degrees(np.arcsin(np.sin(λs2*fact)*np.cos(p2*fact)+np.cos(λs2*fact)*np.sin(p2*fact)*np.cos(D2*fact))), 3)\n",
    "β2 = round(np.degrees(np.arcsin(np.sin(p2*fact)*np.sin(D2*fact)/np.cos(λp2*fact))), 3)\n",
    "\n",
    "if np.cos(p2*fact)>= (np.sin(λs2*fact)*np.sin(λs2*fact)):\n",
    "    φp2 = φs2+β2\n",
    "else:\n",
    "    np.cos(p2*fact)<= (np.sin(λs2*fact)*np.sin(λs2*fact))\n",
    "    φp2 = φs2+180-β2\n",
    "    \n",
    "dp2 = round(α952*((1+3*math.cos(p2*fact)**2)/2), 3)\n",
    "\n",
    "dm2 = round(α952*(np.sin(p2*fact)/np.cos(I2*fact)), 3)\n",
    "\n",
    "if p2<=0:\n",
    "    p22=p2+180"
   ]
  },
  {
   "cell_type": "code",
   "execution_count": 80,
   "metadata": {},
   "outputs": [
    {
     "name": "stdout",
     "output_type": "stream",
     "text": [
      "Colatitud magnética: p = 99.174 °\n",
      "Latitud del polo: λp = 35.635 °\n",
      "β = 74.784 °\n",
      "φp = 346.416 °\n",
      "dp 1.489\n",
      "dm 2.871\n"
     ]
    }
   ],
   "source": [
    "print(\"Colatitud magnética: p =\", p22,\"°\")\n",
    "print(\"Latitud del polo: λp =\", λp2,\"°\")\n",
    "print(\"β =\", β2,\"°\")\n",
    "print(\"φp =\", φp2,\"°\")\n",
    "print(\"dp\", dp2)\n",
    "print(\"dm\", -dm2)"
   ]
  },
  {
   "cell_type": "markdown",
   "metadata": {},
   "source": [
    "* Los valores anteriores corresponden a parámetros de nuestro polo."
   ]
  }
 ],
 "metadata": {
  "kernelspec": {
   "display_name": "Python 3",
   "language": "python",
   "name": "python3"
  },
  "language_info": {
   "codemirror_mode": {
    "name": "ipython",
    "version": 3
   },
   "file_extension": ".py",
   "mimetype": "text/x-python",
   "name": "python",
   "nbconvert_exporter": "python",
   "pygments_lexer": "ipython3",
   "version": "3.8.5"
  }
 },
 "nbformat": 4,
 "nbformat_minor": 4
}
